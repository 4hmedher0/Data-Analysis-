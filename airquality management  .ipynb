{
 "cells": [
  {
   "cell_type": "markdown",
   "metadata": {},
   "source": [
    " ##### To monitor the status of ambient air quality, The Central Pollution Control Board \n",
    "#### (CPCB), India, operates a vast network of monitoring stations spread across the country. \n",
    "#### Parameters regularly monitored include (OZONE,PM10,SO2,CO)\n",
    "#### A stepwise analysis of daily air quality data follows to demonstrate how data \n",
    "#### analysis could assist in planning interventions as part of air quality management.\n",
    "### Questions that we want to answer through our analysis:\n",
    ">1. Yearly averages: Out of the four pollutants - SO2, NO2, ozone, and \n",
    ">>PM10 - which have yearly average levels that regularly surpass the \n",
    ">>prescribed annual standards?\n",
    ">2. Daily standards: For the pollutants of concern, on how many days \n",
    "> in each year are the daily standards exceeded?\n",
    "> 3. Temporal variation: Which are the months where the pollution \n",
    ">> levels exceed critical levels on most days?"
   ]
  },
  {
   "cell_type": "code",
   "execution_count": 1,
   "metadata": {},
   "outputs": [],
   "source": [
    "import pandas as pd\n",
    "import numpy as np\n",
    "import seaborn as sns\n",
    "import matplotlib.pyplot as plt"
   ]
  },
  {
   "cell_type": "code",
   "execution_count": 2,
   "metadata": {},
   "outputs": [],
   "source": [
    "aqdata=pd.read_csv('air_pol_delhi.csv')"
   ]
  },
  {
   "cell_type": "code",
   "execution_count": null,
   "metadata": {},
   "outputs": [],
   "source": []
  },
  {
   "cell_type": "code",
   "execution_count": null,
   "metadata": {},
   "outputs": [],
   "source": []
  },
  {
   "cell_type": "code",
   "execution_count": 3,
   "metadata": {},
   "outputs": [
    {
     "data": {
      "text/html": [
       "<div>\n",
       "<style scoped>\n",
       "    .dataframe tbody tr th:only-of-type {\n",
       "        vertical-align: middle;\n",
       "    }\n",
       "\n",
       "    .dataframe tbody tr th {\n",
       "        vertical-align: top;\n",
       "    }\n",
       "\n",
       "    .dataframe thead th {\n",
       "        text-align: right;\n",
       "    }\n",
       "</style>\n",
       "<table border=\"1\" class=\"dataframe\">\n",
       "  <thead>\n",
       "    <tr style=\"text-align: right;\">\n",
       "      <th></th>\n",
       "      <th>id</th>\n",
       "      <th>city</th>\n",
       "      <th>site_name</th>\n",
       "      <th>site</th>\n",
       "      <th>state</th>\n",
       "      <th>query_name</th>\n",
       "      <th>to_date</th>\n",
       "      <th>to_time</th>\n",
       "      <th>from_date</th>\n",
       "      <th>from_time</th>\n",
       "      <th>pm25</th>\n",
       "      <th>pm10</th>\n",
       "      <th>SO2</th>\n",
       "      <th>CO</th>\n",
       "      <th>Ozone</th>\n",
       "    </tr>\n",
       "  </thead>\n",
       "  <tbody>\n",
       "    <tr>\n",
       "      <th>0</th>\n",
       "      <td>1</td>\n",
       "      <td>Delhi</td>\n",
       "      <td>Anand Vihar, Delhi - DPCC</td>\n",
       "      <td>site_301</td>\n",
       "      <td>Delhi</td>\n",
       "      <td>run2_delhi_delhi_site_301_20160101</td>\n",
       "      <td>02-Jan-2016</td>\n",
       "      <td>00:00</td>\n",
       "      <td>01-Jan-2016</td>\n",
       "      <td>00:00</td>\n",
       "      <td>360.81</td>\n",
       "      <td>750.91</td>\n",
       "      <td>33.15</td>\n",
       "      <td>3.13</td>\n",
       "      <td>14.74</td>\n",
       "    </tr>\n",
       "    <tr>\n",
       "      <th>1</th>\n",
       "      <td>2</td>\n",
       "      <td>Delhi</td>\n",
       "      <td>Anand Vihar, Delhi - DPCC</td>\n",
       "      <td>site_301</td>\n",
       "      <td>Delhi</td>\n",
       "      <td>run2_delhi_delhi_site_301_20160103</td>\n",
       "      <td>04-Jan-2016</td>\n",
       "      <td>00:00</td>\n",
       "      <td>03-Jan-2016</td>\n",
       "      <td>00:00</td>\n",
       "      <td>341.32</td>\n",
       "      <td>651.71</td>\n",
       "      <td>22.83</td>\n",
       "      <td>2.57</td>\n",
       "      <td>15.67</td>\n",
       "    </tr>\n",
       "    <tr>\n",
       "      <th>2</th>\n",
       "      <td>3</td>\n",
       "      <td>Delhi</td>\n",
       "      <td>Anand Vihar, Delhi - DPCC</td>\n",
       "      <td>site_301</td>\n",
       "      <td>Delhi</td>\n",
       "      <td>run2_delhi_delhi_site_301_20160105</td>\n",
       "      <td>06-Jan-2016</td>\n",
       "      <td>00:00</td>\n",
       "      <td>05-Jan-2016</td>\n",
       "      <td>00:00</td>\n",
       "      <td>433.35</td>\n",
       "      <td>847.84</td>\n",
       "      <td>38.65</td>\n",
       "      <td>3.58</td>\n",
       "      <td>32.07</td>\n",
       "    </tr>\n",
       "    <tr>\n",
       "      <th>3</th>\n",
       "      <td>4</td>\n",
       "      <td>Delhi</td>\n",
       "      <td>Anand Vihar, Delhi - DPCC</td>\n",
       "      <td>site_301</td>\n",
       "      <td>Delhi</td>\n",
       "      <td>run2_delhi_delhi_site_301_20160107</td>\n",
       "      <td>08-Jan-2016</td>\n",
       "      <td>00:00</td>\n",
       "      <td>07-Jan-2016</td>\n",
       "      <td>00:00</td>\n",
       "      <td>468.02</td>\n",
       "      <td>743.11</td>\n",
       "      <td>34.02</td>\n",
       "      <td>3.39</td>\n",
       "      <td>27.80</td>\n",
       "    </tr>\n",
       "    <tr>\n",
       "      <th>4</th>\n",
       "      <td>5</td>\n",
       "      <td>Delhi</td>\n",
       "      <td>Anand Vihar, Delhi - DPCC</td>\n",
       "      <td>site_301</td>\n",
       "      <td>Delhi</td>\n",
       "      <td>run2_delhi_delhi_site_301_20160109</td>\n",
       "      <td>10-Jan-2016</td>\n",
       "      <td>00:00</td>\n",
       "      <td>09-Jan-2016</td>\n",
       "      <td>00:00</td>\n",
       "      <td>169.49</td>\n",
       "      <td>480.58</td>\n",
       "      <td>16.10</td>\n",
       "      <td>2.20</td>\n",
       "      <td>14.09</td>\n",
       "    </tr>\n",
       "  </tbody>\n",
       "</table>\n",
       "</div>"
      ],
      "text/plain": [
       "   id   city                  site_name      site  state  \\\n",
       "0   1  Delhi  Anand Vihar, Delhi - DPCC  site_301  Delhi   \n",
       "1   2  Delhi  Anand Vihar, Delhi - DPCC  site_301  Delhi   \n",
       "2   3  Delhi  Anand Vihar, Delhi - DPCC  site_301  Delhi   \n",
       "3   4  Delhi  Anand Vihar, Delhi - DPCC  site_301  Delhi   \n",
       "4   5  Delhi  Anand Vihar, Delhi - DPCC  site_301  Delhi   \n",
       "\n",
       "                           query_name      to_date to_time    from_date  \\\n",
       "0  run2_delhi_delhi_site_301_20160101  02-Jan-2016   00:00  01-Jan-2016   \n",
       "1  run2_delhi_delhi_site_301_20160103  04-Jan-2016   00:00  03-Jan-2016   \n",
       "2  run2_delhi_delhi_site_301_20160105  06-Jan-2016   00:00  05-Jan-2016   \n",
       "3  run2_delhi_delhi_site_301_20160107  08-Jan-2016   00:00  07-Jan-2016   \n",
       "4  run2_delhi_delhi_site_301_20160109  10-Jan-2016   00:00  09-Jan-2016   \n",
       "\n",
       "  from_time    pm25    pm10    SO2    CO  Ozone  \n",
       "0     00:00  360.81  750.91  33.15  3.13  14.74  \n",
       "1     00:00  341.32  651.71  22.83  2.57  15.67  \n",
       "2     00:00  433.35  847.84  38.65  3.58  32.07  \n",
       "3     00:00  468.02  743.11  34.02  3.39  27.80  \n",
       "4     00:00  169.49  480.58  16.10  2.20  14.09  "
      ]
     },
     "execution_count": 3,
     "metadata": {},
     "output_type": "execute_result"
    }
   ],
   "source": [
    "aqdata.head()"
   ]
  },
  {
   "cell_type": "code",
   "execution_count": 4,
   "metadata": {},
   "outputs": [
    {
     "name": "stdout",
     "output_type": "stream",
     "text": [
      "<class 'pandas.core.frame.DataFrame'>\n",
      "RangeIndex: 4530 entries, 0 to 4529\n",
      "Data columns (total 15 columns):\n",
      " #   Column      Non-Null Count  Dtype  \n",
      "---  ------      --------------  -----  \n",
      " 0   id          4530 non-null   int64  \n",
      " 1   city        4530 non-null   object \n",
      " 2   site_name   4530 non-null   object \n",
      " 3   site        4530 non-null   object \n",
      " 4   state       4530 non-null   object \n",
      " 5   query_name  4530 non-null   object \n",
      " 6   to_date     4530 non-null   object \n",
      " 7   to_time     4530 non-null   object \n",
      " 8   from_date   4530 non-null   object \n",
      " 9   from_time   4530 non-null   object \n",
      " 10  pm25        3159 non-null   float64\n",
      " 11  pm10        2928 non-null   float64\n",
      " 12  SO2         1807 non-null   float64\n",
      " 13  CO          2953 non-null   float64\n",
      " 14  Ozone       2951 non-null   float64\n",
      "dtypes: float64(5), int64(1), object(9)\n",
      "memory usage: 531.0+ KB\n"
     ]
    }
   ],
   "source": [
    "aqdata.info()"
   ]
  },
  {
   "cell_type": "code",
   "execution_count": 5,
   "metadata": {},
   "outputs": [
    {
     "data": {
      "text/plain": [
       "id               0\n",
       "city             0\n",
       "site_name        0\n",
       "site             0\n",
       "state            0\n",
       "query_name       0\n",
       "to_date          0\n",
       "to_time          0\n",
       "from_date        0\n",
       "from_time        0\n",
       "pm25          1371\n",
       "pm10          1602\n",
       "SO2           2723\n",
       "CO            1577\n",
       "Ozone         1579\n",
       "dtype: int64"
      ]
     },
     "execution_count": 5,
     "metadata": {},
     "output_type": "execute_result"
    }
   ],
   "source": [
    "aqdata.isna().sum()"
   ]
  },
  {
   "cell_type": "code",
   "execution_count": 6,
   "metadata": {},
   "outputs": [],
   "source": [
    "aqdata.drop(['id','site_name','site','state','query_name','to_time','from_time','city'],axis=1,inplace=True)"
   ]
  },
  {
   "cell_type": "code",
   "execution_count": 7,
   "metadata": {},
   "outputs": [
    {
     "data": {
      "text/html": [
       "<div>\n",
       "<style scoped>\n",
       "    .dataframe tbody tr th:only-of-type {\n",
       "        vertical-align: middle;\n",
       "    }\n",
       "\n",
       "    .dataframe tbody tr th {\n",
       "        vertical-align: top;\n",
       "    }\n",
       "\n",
       "    .dataframe thead th {\n",
       "        text-align: right;\n",
       "    }\n",
       "</style>\n",
       "<table border=\"1\" class=\"dataframe\">\n",
       "  <thead>\n",
       "    <tr style=\"text-align: right;\">\n",
       "      <th></th>\n",
       "      <th>to_date</th>\n",
       "      <th>from_date</th>\n",
       "      <th>pm25</th>\n",
       "      <th>pm10</th>\n",
       "      <th>SO2</th>\n",
       "      <th>CO</th>\n",
       "      <th>Ozone</th>\n",
       "    </tr>\n",
       "  </thead>\n",
       "  <tbody>\n",
       "    <tr>\n",
       "      <th>0</th>\n",
       "      <td>02-Jan-2016</td>\n",
       "      <td>01-Jan-2016</td>\n",
       "      <td>360.81</td>\n",
       "      <td>750.91</td>\n",
       "      <td>33.15</td>\n",
       "      <td>3.13</td>\n",
       "      <td>14.74</td>\n",
       "    </tr>\n",
       "    <tr>\n",
       "      <th>1</th>\n",
       "      <td>04-Jan-2016</td>\n",
       "      <td>03-Jan-2016</td>\n",
       "      <td>341.32</td>\n",
       "      <td>651.71</td>\n",
       "      <td>22.83</td>\n",
       "      <td>2.57</td>\n",
       "      <td>15.67</td>\n",
       "    </tr>\n",
       "    <tr>\n",
       "      <th>2</th>\n",
       "      <td>06-Jan-2016</td>\n",
       "      <td>05-Jan-2016</td>\n",
       "      <td>433.35</td>\n",
       "      <td>847.84</td>\n",
       "      <td>38.65</td>\n",
       "      <td>3.58</td>\n",
       "      <td>32.07</td>\n",
       "    </tr>\n",
       "    <tr>\n",
       "      <th>3</th>\n",
       "      <td>08-Jan-2016</td>\n",
       "      <td>07-Jan-2016</td>\n",
       "      <td>468.02</td>\n",
       "      <td>743.11</td>\n",
       "      <td>34.02</td>\n",
       "      <td>3.39</td>\n",
       "      <td>27.80</td>\n",
       "    </tr>\n",
       "    <tr>\n",
       "      <th>4</th>\n",
       "      <td>10-Jan-2016</td>\n",
       "      <td>09-Jan-2016</td>\n",
       "      <td>169.49</td>\n",
       "      <td>480.58</td>\n",
       "      <td>16.10</td>\n",
       "      <td>2.20</td>\n",
       "      <td>14.09</td>\n",
       "    </tr>\n",
       "  </tbody>\n",
       "</table>\n",
       "</div>"
      ],
      "text/plain": [
       "       to_date    from_date    pm25    pm10    SO2    CO  Ozone\n",
       "0  02-Jan-2016  01-Jan-2016  360.81  750.91  33.15  3.13  14.74\n",
       "1  04-Jan-2016  03-Jan-2016  341.32  651.71  22.83  2.57  15.67\n",
       "2  06-Jan-2016  05-Jan-2016  433.35  847.84  38.65  3.58  32.07\n",
       "3  08-Jan-2016  07-Jan-2016  468.02  743.11  34.02  3.39  27.80\n",
       "4  10-Jan-2016  09-Jan-2016  169.49  480.58  16.10  2.20  14.09"
      ]
     },
     "execution_count": 7,
     "metadata": {},
     "output_type": "execute_result"
    }
   ],
   "source": [
    "aqdata.head()"
   ]
  },
  {
   "cell_type": "code",
   "execution_count": 8,
   "metadata": {},
   "outputs": [
    {
     "name": "stdout",
     "output_type": "stream",
     "text": [
      "<class 'pandas.core.frame.DataFrame'>\n",
      "RangeIndex: 4530 entries, 0 to 4529\n",
      "Data columns (total 7 columns):\n",
      " #   Column     Non-Null Count  Dtype  \n",
      "---  ------     --------------  -----  \n",
      " 0   to_date    4530 non-null   object \n",
      " 1   from_date  4530 non-null   object \n",
      " 2   pm25       3159 non-null   float64\n",
      " 3   pm10       2928 non-null   float64\n",
      " 4   SO2        1807 non-null   float64\n",
      " 5   CO         2953 non-null   float64\n",
      " 6   Ozone      2951 non-null   float64\n",
      "dtypes: float64(5), object(2)\n",
      "memory usage: 247.9+ KB\n"
     ]
    }
   ],
   "source": [
    "aqdata.info()"
   ]
  },
  {
   "cell_type": "code",
   "execution_count": 9,
   "metadata": {},
   "outputs": [],
   "source": [
    "aqdata['to_date']=pd.to_datetime(aqdata['to_date'])"
   ]
  },
  {
   "cell_type": "code",
   "execution_count": 10,
   "metadata": {},
   "outputs": [],
   "source": [
    "aqdata['from_date']=pd.to_datetime(aqdata['from_date'])"
   ]
  },
  {
   "cell_type": "code",
   "execution_count": 11,
   "metadata": {},
   "outputs": [
    {
     "name": "stdout",
     "output_type": "stream",
     "text": [
      "<class 'pandas.core.frame.DataFrame'>\n",
      "RangeIndex: 4530 entries, 0 to 4529\n",
      "Data columns (total 7 columns):\n",
      " #   Column     Non-Null Count  Dtype         \n",
      "---  ------     --------------  -----         \n",
      " 0   to_date    4530 non-null   datetime64[ns]\n",
      " 1   from_date  4530 non-null   datetime64[ns]\n",
      " 2   pm25       3159 non-null   float64       \n",
      " 3   pm10       2928 non-null   float64       \n",
      " 4   SO2        1807 non-null   float64       \n",
      " 5   CO         2953 non-null   float64       \n",
      " 6   Ozone      2951 non-null   float64       \n",
      "dtypes: datetime64[ns](2), float64(5)\n",
      "memory usage: 247.9 KB\n"
     ]
    }
   ],
   "source": [
    "aqdata.info()"
   ]
  },
  {
   "cell_type": "code",
   "execution_count": 12,
   "metadata": {},
   "outputs": [],
   "source": [
    "aqdata['year']=pd.DatetimeIndex(aqdata['from_date']).year"
   ]
  },
  {
   "cell_type": "code",
   "execution_count": 13,
   "metadata": {},
   "outputs": [
    {
     "data": {
      "text/plain": [
       "dict_keys([2016, 2017, 2018, 2019, 2020, 2021])"
      ]
     },
     "execution_count": 13,
     "metadata": {},
     "output_type": "execute_result"
    }
   ],
   "source": [
    "aqgroup=aqdata.groupby('year')\n",
    "aqgroup.groups.keys()"
   ]
  },
  {
   "cell_type": "code",
   "execution_count": 14,
   "metadata": {},
   "outputs": [],
   "source": [
    "aq2016=aqgroup.get_group(2016)\n",
    "aq2017=aqgroup.get_group(2017)\n",
    "aq2018=aqdata[aqdata['year']==2018]\n",
    "aq2019=aqdata[aqdata['year']==2019]\n",
    "aq2020=aqdata[aqdata['year']==2020]\n",
    "aq2021=aqdata[aqdata['year']==2021]"
   ]
  },
  {
   "cell_type": "code",
   "execution_count": 15,
   "metadata": {},
   "outputs": [
    {
     "data": {
      "text/plain": [
       "3624"
      ]
     },
     "execution_count": 15,
     "metadata": {},
     "output_type": "execute_result"
    }
   ],
   "source": [
    "aq2016.isna().sum().sum()"
   ]
  },
  {
   "cell_type": "code",
   "execution_count": 16,
   "metadata": {},
   "outputs": [
    {
     "data": {
      "text/plain": [
       "3336"
      ]
     },
     "execution_count": 16,
     "metadata": {},
     "output_type": "execute_result"
    }
   ],
   "source": [
    "aq2017.isna().sum().sum()"
   ]
  },
  {
   "cell_type": "code",
   "execution_count": 17,
   "metadata": {},
   "outputs": [
    {
     "data": {
      "text/plain": [
       "805"
      ]
     },
     "execution_count": 17,
     "metadata": {},
     "output_type": "execute_result"
    }
   ],
   "source": [
    "aq2018.isna().sum().sum()"
   ]
  },
  {
   "cell_type": "code",
   "execution_count": 18,
   "metadata": {},
   "outputs": [
    {
     "data": {
      "text/plain": [
       "540"
      ]
     },
     "execution_count": 18,
     "metadata": {},
     "output_type": "execute_result"
    }
   ],
   "source": [
    "aq2019.isna().sum().sum()"
   ]
  },
  {
   "cell_type": "code",
   "execution_count": 19,
   "metadata": {},
   "outputs": [
    {
     "data": {
      "text/plain": [
       "528"
      ]
     },
     "execution_count": 19,
     "metadata": {},
     "output_type": "execute_result"
    }
   ],
   "source": [
    "aq2020.isna().sum().sum()"
   ]
  },
  {
   "cell_type": "code",
   "execution_count": 20,
   "metadata": {},
   "outputs": [
    {
     "data": {
      "text/plain": [
       "19"
      ]
     },
     "execution_count": 20,
     "metadata": {},
     "output_type": "execute_result"
    }
   ],
   "source": [
    "aq2021.isna().sum().sum()"
   ]
  },
  {
   "cell_type": "markdown",
   "metadata": {},
   "source": [
    "## From the analysis of null values for each year we see\n",
    "> ### that data for the years 2016 , 2017 and 2018 have the majority of the missing values. \n",
    "> ### Hence, we choose to disregard data from \n",
    "> ### the years 2016 ,2017 and 2018, and analyze data for 3 years from 2019 to 2021"
   ]
  },
  {
   "cell_type": "code",
   "execution_count": 21,
   "metadata": {},
   "outputs": [
    {
     "name": "stderr",
     "output_type": "stream",
     "text": [
      "<ipython-input-21-c619bf6f7029>:1: SettingWithCopyWarning: \n",
      "A value is trying to be set on a copy of a slice from a DataFrame\n",
      "\n",
      "See the caveats in the documentation: https://pandas.pydata.org/pandas-docs/stable/user_guide/indexing.html#returning-a-view-versus-a-copy\n",
      "  aq2019.dropna(inplace=True)\n"
     ]
    }
   ],
   "source": [
    "aq2019.dropna(inplace=True)"
   ]
  },
  {
   "cell_type": "code",
   "execution_count": 22,
   "metadata": {},
   "outputs": [
    {
     "name": "stderr",
     "output_type": "stream",
     "text": [
      "<ipython-input-22-17d248e2c875>:1: SettingWithCopyWarning: \n",
      "A value is trying to be set on a copy of a slice from a DataFrame\n",
      "\n",
      "See the caveats in the documentation: https://pandas.pydata.org/pandas-docs/stable/user_guide/indexing.html#returning-a-view-versus-a-copy\n",
      "  aq2020.dropna(inplace=True)\n",
      "<ipython-input-22-17d248e2c875>:2: SettingWithCopyWarning: \n",
      "A value is trying to be set on a copy of a slice from a DataFrame\n",
      "\n",
      "See the caveats in the documentation: https://pandas.pydata.org/pandas-docs/stable/user_guide/indexing.html#returning-a-view-versus-a-copy\n",
      "  aq2021.dropna(inplace=True)\n"
     ]
    }
   ],
   "source": [
    "aq2020.dropna(inplace=True)\n",
    "aq2021.dropna(inplace=True)"
   ]
  },
  {
   "cell_type": "code",
   "execution_count": 23,
   "metadata": {},
   "outputs": [
    {
     "data": {
      "text/plain": [
       "to_date      0\n",
       "from_date    0\n",
       "pm25         0\n",
       "pm10         0\n",
       "SO2          0\n",
       "CO           0\n",
       "Ozone        0\n",
       "year         0\n",
       "dtype: int64"
      ]
     },
     "execution_count": 23,
     "metadata": {},
     "output_type": "execute_result"
    }
   ],
   "source": [
    "aq2020.isna().sum()"
   ]
  },
  {
   "cell_type": "code",
   "execution_count": 24,
   "metadata": {},
   "outputs": [
    {
     "data": {
      "text/html": [
       "<div>\n",
       "<style scoped>\n",
       "    .dataframe tbody tr th:only-of-type {\n",
       "        vertical-align: middle;\n",
       "    }\n",
       "\n",
       "    .dataframe tbody tr th {\n",
       "        vertical-align: top;\n",
       "    }\n",
       "\n",
       "    .dataframe thead th {\n",
       "        text-align: right;\n",
       "    }\n",
       "</style>\n",
       "<table border=\"1\" class=\"dataframe\">\n",
       "  <thead>\n",
       "    <tr style=\"text-align: right;\">\n",
       "      <th></th>\n",
       "      <th>to_date</th>\n",
       "      <th>from_date</th>\n",
       "      <th>pm25</th>\n",
       "      <th>pm10</th>\n",
       "      <th>SO2</th>\n",
       "      <th>CO</th>\n",
       "      <th>Ozone</th>\n",
       "      <th>year</th>\n",
       "    </tr>\n",
       "  </thead>\n",
       "  <tbody>\n",
       "    <tr>\n",
       "      <th>726</th>\n",
       "      <td>2020-01-03</td>\n",
       "      <td>2020-01-02</td>\n",
       "      <td>361.69</td>\n",
       "      <td>472.60</td>\n",
       "      <td>21.35</td>\n",
       "      <td>4.16</td>\n",
       "      <td>63.83</td>\n",
       "      <td>2020</td>\n",
       "    </tr>\n",
       "    <tr>\n",
       "      <th>727</th>\n",
       "      <td>2020-01-05</td>\n",
       "      <td>2020-01-04</td>\n",
       "      <td>209.88</td>\n",
       "      <td>361.17</td>\n",
       "      <td>5.06</td>\n",
       "      <td>0.92</td>\n",
       "      <td>63.19</td>\n",
       "      <td>2020</td>\n",
       "    </tr>\n",
       "    <tr>\n",
       "      <th>728</th>\n",
       "      <td>2020-01-07</td>\n",
       "      <td>2020-01-06</td>\n",
       "      <td>170.26</td>\n",
       "      <td>289.72</td>\n",
       "      <td>17.82</td>\n",
       "      <td>2.34</td>\n",
       "      <td>67.08</td>\n",
       "      <td>2020</td>\n",
       "    </tr>\n",
       "    <tr>\n",
       "      <th>729</th>\n",
       "      <td>2020-01-09</td>\n",
       "      <td>2020-01-08</td>\n",
       "      <td>145.70</td>\n",
       "      <td>168.07</td>\n",
       "      <td>11.75</td>\n",
       "      <td>1.82</td>\n",
       "      <td>62.43</td>\n",
       "      <td>2020</td>\n",
       "    </tr>\n",
       "    <tr>\n",
       "      <th>730</th>\n",
       "      <td>2020-01-11</td>\n",
       "      <td>2020-01-10</td>\n",
       "      <td>148.54</td>\n",
       "      <td>323.30</td>\n",
       "      <td>10.51</td>\n",
       "      <td>2.22</td>\n",
       "      <td>64.56</td>\n",
       "      <td>2020</td>\n",
       "    </tr>\n",
       "  </tbody>\n",
       "</table>\n",
       "</div>"
      ],
      "text/plain": [
       "       to_date  from_date    pm25    pm10    SO2    CO  Ozone  year\n",
       "726 2020-01-03 2020-01-02  361.69  472.60  21.35  4.16  63.83  2020\n",
       "727 2020-01-05 2020-01-04  209.88  361.17   5.06  0.92  63.19  2020\n",
       "728 2020-01-07 2020-01-06  170.26  289.72  17.82  2.34  67.08  2020\n",
       "729 2020-01-09 2020-01-08  145.70  168.07  11.75  1.82  62.43  2020\n",
       "730 2020-01-11 2020-01-10  148.54  323.30  10.51  2.22  64.56  2020"
      ]
     },
     "execution_count": 24,
     "metadata": {},
     "output_type": "execute_result"
    }
   ],
   "source": [
    "aq2020.head(5)"
   ]
  },
  {
   "cell_type": "code",
   "execution_count": 25,
   "metadata": {},
   "outputs": [],
   "source": [
    "pm19avg=round(aq2019['pm25'].mean(),2)\n",
    "so19avg=round(aq2019['SO2'].mean(),2)\n",
    "co19avg=round(aq2019['CO'].mean(),2)\n",
    "oz19avg=round(aq2019['Ozone'].mean(),2)\n"
   ]
  },
  {
   "cell_type": "code",
   "execution_count": 26,
   "metadata": {},
   "outputs": [],
   "source": [
    "pm20avg=round(aq2020['pm25'].mean(),2)\n",
    "so20avg=round(aq2020['SO2'].mean(),2)\n",
    "co20avg=round(aq2020['CO'].mean(),2)\n",
    "oz20avg=round(aq2020['Ozone'].mean(),2)\n"
   ]
  },
  {
   "cell_type": "code",
   "execution_count": 27,
   "metadata": {},
   "outputs": [],
   "source": [
    "pm21avg=round(aq2021['pm25'].mean(),2)\n",
    "so21avg=round(aq2021['SO2'].mean(),2)\n",
    "co21avg=round(aq2021['CO'].mean(),2)\n",
    "oz21avg=round(aq2021['Ozone'].mean(),2)\n"
   ]
  },
  {
   "cell_type": "code",
   "execution_count": 28,
   "metadata": {},
   "outputs": [],
   "source": [
    "dfpm=pd.DataFrame({'Yearly average':[pm19avg,pm20avg,pm21avg]},index=['2019','2020','2021'])\n",
    "dfso=pd.DataFrame({'Yearly average':[so19avg,so20avg,so21avg]},index=['2019','2020','2021'])\n",
    "dfco=pd.DataFrame({'Yearly average':[co19avg,co20avg,co21avg]},index=['2019','2020','2021'])\n",
    "dfoz=pd.DataFrame({'Yearly average':[oz19avg,oz20avg,oz21avg]},index=['2019','2020','2021'])"
   ]
  },
  {
   "cell_type": "code",
   "execution_count": 29,
   "metadata": {},
   "outputs": [
    {
     "data": {
      "text/html": [
       "<div>\n",
       "<style scoped>\n",
       "    .dataframe tbody tr th:only-of-type {\n",
       "        vertical-align: middle;\n",
       "    }\n",
       "\n",
       "    .dataframe tbody tr th {\n",
       "        vertical-align: top;\n",
       "    }\n",
       "\n",
       "    .dataframe thead th {\n",
       "        text-align: right;\n",
       "    }\n",
       "</style>\n",
       "<table border=\"1\" class=\"dataframe\">\n",
       "  <thead>\n",
       "    <tr style=\"text-align: right;\">\n",
       "      <th></th>\n",
       "      <th>Yearly average</th>\n",
       "    </tr>\n",
       "  </thead>\n",
       "  <tbody>\n",
       "    <tr>\n",
       "      <th>2019</th>\n",
       "      <td>121.08</td>\n",
       "    </tr>\n",
       "    <tr>\n",
       "      <th>2020</th>\n",
       "      <td>109.65</td>\n",
       "    </tr>\n",
       "    <tr>\n",
       "      <th>2021</th>\n",
       "      <td>227.33</td>\n",
       "    </tr>\n",
       "  </tbody>\n",
       "</table>\n",
       "</div>"
      ],
      "text/plain": [
       "      Yearly average\n",
       "2019          121.08\n",
       "2020          109.65\n",
       "2021          227.33"
      ]
     },
     "execution_count": 29,
     "metadata": {},
     "output_type": "execute_result"
    }
   ],
   "source": [
    "dfpm"
   ]
  },
  {
   "cell_type": "code",
   "execution_count": 30,
   "metadata": {},
   "outputs": [
    {
     "data": {
      "text/plain": [
       "Text(0.5, 0.98, 'The yearly average level for the pollutants (CO,SO2,PM and OZONE),vis their annual average standard')"
      ]
     },
     "execution_count": 30,
     "metadata": {},
     "output_type": "execute_result"
    },
    {
     "data": {
      "image/png": "[encoded data removed]",
      "text/plain": [
       "<Figure size 1296x576 with 4 Axes>"
      ]
     },
     "metadata": {
      "needs_background": "light"
     },
     "output_type": "display_data"
    }
   ],
   "source": [
    "fig,(ax1,ax2,ax3,ax4)=plt.subplots(1,4,figsize=(18,8))\n",
    "ax4.bar(dfoz.index,dfoz['Yearly average'],width=0.8,alpha=0.8,edgecolor='c')\n",
    "ax4.hlines(70,-.2,2.5,linestyles=\"dashed\")\n",
    "\n",
    "for p in ax4.patches:\n",
    " ax4.annotate(p.get_height(),(p.get_x()+p.get_width()/2,p.get_height()), \n",
    " color=\"black\", ha=\"right\", va ='bottom',fontsize=10)\n",
    "ax4.set_title('OZONE')\n",
    "\n",
    "ax3.bar(dfpm.index,dfpm['Yearly average'],width=0.8,alpha=0.8,edgecolor='c')\n",
    "ax3.hlines(40,-.2,2.5,linestyles=\"dashed\")\n",
    "\n",
    "for p in ax3.patches:\n",
    " ax3.annotate(p.get_height(),(p.get_x()+p.get_width()/2,p.get_height()), \n",
    " color=\"black\", ha=\"right\", va ='bottom',fontsize=10)\n",
    "ax3.set_title('PM10')\n",
    "\n",
    "ax2.bar(dfso.index,dfso['Yearly average'],width=0.8,alpha=0.8,edgecolor='c')\n",
    "ax2.hlines(10,  -.2,2.5, linestyles=\"dashed\")\n",
    "\n",
    "for p in ax2.patches:\n",
    " ax2.annotate(p.get_height(),(p.get_x()+p.get_width()/2,p.get_height()), \n",
    " color=\"black\", ha=\"right\", va ='bottom',fontsize=10)\n",
    "ax2.set_title('SO2')\n",
    "\n",
    "ax1.bar(dfco.index,dfco['Yearly average'],width=0.8,alpha=0.8,edgecolor='c')\n",
    "#ax1.hlines(50,  -.3,0, linestyles=\"dashed\")\n",
    "for p in ax1.patches:\n",
    " ax1.annotate(p.get_height(),(p.get_x()+p.get_width()/2,p.get_height()), \n",
    " color=\"black\", ha=\"right\", va ='bottom',fontsize=10)\n",
    "ax1.set_title('CO')\n",
    "ax1.set_ylabel('Year Average',size=15)\n",
    "ax1.set_xlabel('Year',size=15)\n",
    "fig.suptitle('The yearly average level for the pollutants (CO,SO2,PM and OZONE),vis their annual average standard',size=15)\n"
   ]
  },
  {
   "cell_type": "markdown",
   "metadata": {},
   "source": [
    "#### Observation: It is evident that standards for annual average are exceeded only for PM10 and OZONE,  \n",
    "> For SO2,and CO, the observed values are relatively close to the prescribed standard. ,Therefore, for further analysis, \n",
    "> only these two pollutants (PM10 and OZONE) are considered."
   ]
  },
  {
   "cell_type": "code",
   "execution_count": 31,
   "metadata": {},
   "outputs": [
    {
     "data": {
      "text/plain": [
       "60.98"
      ]
     },
     "execution_count": 31,
     "metadata": {},
     "output_type": "execute_result"
    }
   ],
   "source": [
    "aq2016['pm10'].min()"
   ]
  },
  {
   "cell_type": "code",
   "execution_count": null,
   "metadata": {},
   "outputs": [],
   "source": []
  },
  {
   "cell_type": "markdown",
   "metadata": {},
   "source": [
    " 60>>360 <br>\n",
    "361>>560 \n",
    "<br>\n",
    "561>>760 <br>\n",
    "761>>974"
   ]
  },
  {
   "cell_type": "code",
   "execution_count": 32,
   "metadata": {},
   "outputs": [],
   "source": [
    "a2=aq2019[(aq2019['pm10']<=60)]['pm10'].count()"
   ]
  },
  {
   "cell_type": "code",
   "execution_count": 33,
   "metadata": {},
   "outputs": [],
   "source": [
    "#b2=aq2019[(aq2019['pm10'])>60 & (aq2019['pm10']<=360)]['pm10'].count()\n",
    "b2=aq2019[((aq2019['pm10']>60) & (aq2019['pm10']<=360))]['pm10'].count()\n"
   ]
  },
  {
   "cell_type": "code",
   "execution_count": 34,
   "metadata": {},
   "outputs": [],
   "source": [
    "c2=aq2019[((aq2019['pm10']>360)&(aq2019['pm10']<=560))]['pm10'].count()"
   ]
  },
  {
   "cell_type": "code",
   "execution_count": 35,
   "metadata": {},
   "outputs": [],
   "source": [
    "d2=aq2019[(aq2019['pm10']>560)&(aq2019['pm10']<=760)]['pm10'].count()"
   ]
  },
  {
   "cell_type": "code",
   "execution_count": 36,
   "metadata": {},
   "outputs": [],
   "source": [
    "a3=aq2020[(aq2020['pm10']<=60)]['pm10'].count()\n",
    "b3=aq2020[((aq2020['pm10']>60) & (aq2020['pm10']<=360))]['pm10'].count()\n",
    "c3=aq2020[((aq2020['pm10']>360)&(aq2020['pm10']<=560))]['pm10'].count()\n",
    "d3=aq2020[(aq2020['pm10']>560)&(aq2020['pm10']<=760)]['pm10'].count()"
   ]
  },
  {
   "cell_type": "code",
   "execution_count": 37,
   "metadata": {},
   "outputs": [],
   "source": [
    "a4=aq2021[(aq2021['pm10']<=60)]['pm10'].count()\n",
    "b4=aq2021[((aq2021['pm10']>60) & (aq2021['pm10']<=360))]['pm10'].count()\n",
    "c4=aq2021[((aq2021['pm10']>360)&(aq2021['pm10']<=560))]['pm10'].count()\n",
    "d4=aq2021[(aq2021['pm10']>560)&(aq2021['pm10']<=760)]['pm10'].count()"
   ]
  },
  {
   "cell_type": "code",
   "execution_count": 38,
   "metadata": {},
   "outputs": [],
   "source": [
    "dfaq2019=pd.DataFrame({'year':'2019','PM levels':['less than 60','between 61 &360','between 361 &560','between 561 &760'],'Nom of days':[a2,b2,c2,d2]})"
   ]
  },
  {
   "cell_type": "code",
   "execution_count": 39,
   "metadata": {},
   "outputs": [],
   "source": [
    "dfaq2020=pd.DataFrame({'year':'2020','PM levels':['less than 60','between 61 &360','between 361 &560','between 561 &760'],'Nom of days':[a3,b3,c3,d3]})"
   ]
  },
  {
   "cell_type": "code",
   "execution_count": 40,
   "metadata": {},
   "outputs": [],
   "source": [
    "dfaq2021=pd.DataFrame({'year':'2021','PM levels':['less than 60','between 61 &360','between 361 &560','between 561 &760'],'Nom of days':[a4,b4,c4,d4]})"
   ]
  },
  {
   "cell_type": "code",
   "execution_count": 41,
   "metadata": {},
   "outputs": [],
   "source": [
    "dfaq2019.set_index('year',inplace=True)\n",
    "dfaq2020.set_index('year',inplace=True)\n",
    "dfaq2021.set_index('year',inplace=True)\n"
   ]
  },
  {
   "cell_type": "code",
   "execution_count": 42,
   "metadata": {},
   "outputs": [
    {
     "data": {
      "text/html": [
       "<div>\n",
       "<style scoped>\n",
       "    .dataframe tbody tr th:only-of-type {\n",
       "        vertical-align: middle;\n",
       "    }\n",
       "\n",
       "    .dataframe tbody tr th {\n",
       "        vertical-align: top;\n",
       "    }\n",
       "\n",
       "    .dataframe thead th {\n",
       "        text-align: right;\n",
       "    }\n",
       "</style>\n",
       "<table border=\"1\" class=\"dataframe\">\n",
       "  <thead>\n",
       "    <tr style=\"text-align: right;\">\n",
       "      <th></th>\n",
       "      <th>PM levels</th>\n",
       "      <th>Nom of days</th>\n",
       "    </tr>\n",
       "    <tr>\n",
       "      <th>year</th>\n",
       "      <th></th>\n",
       "      <th></th>\n",
       "    </tr>\n",
       "  </thead>\n",
       "  <tbody>\n",
       "    <tr>\n",
       "      <th>2019</th>\n",
       "      <td>less than 60</td>\n",
       "      <td>5</td>\n",
       "    </tr>\n",
       "    <tr>\n",
       "      <th>2019</th>\n",
       "      <td>between 61 &amp;360</td>\n",
       "      <td>409</td>\n",
       "    </tr>\n",
       "    <tr>\n",
       "      <th>2019</th>\n",
       "      <td>between 361 &amp;560</td>\n",
       "      <td>89</td>\n",
       "    </tr>\n",
       "    <tr>\n",
       "      <th>2019</th>\n",
       "      <td>between 561 &amp;760</td>\n",
       "      <td>21</td>\n",
       "    </tr>\n",
       "  </tbody>\n",
       "</table>\n",
       "</div>"
      ],
      "text/plain": [
       "             PM levels  Nom of days\n",
       "year                               \n",
       "2019      less than 60            5\n",
       "2019   between 61 &360          409\n",
       "2019  between 361 &560           89\n",
       "2019  between 561 &760           21"
      ]
     },
     "execution_count": 42,
     "metadata": {},
     "output_type": "execute_result"
    }
   ],
   "source": [
    "dfaq2019"
   ]
  },
  {
   "cell_type": "code",
   "execution_count": 43,
   "metadata": {},
   "outputs": [
    {
     "data": {
      "text/plain": [
       "Text(0.5, 1.0, '2020')"
      ]
     },
     "execution_count": 43,
     "metadata": {},
     "output_type": "execute_result"
    },
    {
     "data": {
      "image/png": "[encoded data removed]",
      "text/plain": [
       "<Figure size 1296x360 with 3 Axes>"
      ]
     },
     "metadata": {
      "needs_background": "light"
     },
     "output_type": "display_data"
    }
   ],
   "source": [
    "fig2,(ax1,ax2,ax3)=plt.subplots(1,3,figsize=(18, 5))\n",
    "fig2.suptitle(\"Number of days per year in each interval level for PM10\")\n",
    "sns.set_theme(style=\"whitegrid\")\n",
    "\n",
    "\n",
    "ax1=sns.barplot(y='Nom of days',x='PM levels',data=dfaq2019,hue='Nom of days',palette=\"rocket\",ax=ax1,dodge=False)\n",
    "for p in ax1.patches:\n",
    " ax1.annotate(p.get_height(),(p.get_x()+p.get_width()/2,p.get_height()), \n",
    " color=\"black\", ha=\"right\", va ='bottom',fontsize=10)\n",
    "ax1.set_xticklabels(dfaq2021['PM levels'],rotation=40)\n",
    "ax1.set_title('2019')\n",
    "\n",
    "ax2=sns.barplot(y='Nom of days',x='PM levels',data=dfaq2020,hue='Nom of days',palette=\"rocket\",ax=ax2,dodge=False)\n",
    "for p in ax2.patches:\n",
    " ax2.annotate(p.get_height(),(p.get_x()+p.get_width()/2,p.get_height()), \n",
    " color=\"black\", ha=\"right\", va ='bottom',fontsize=10)\n",
    "ax2.set_xticklabels(dfaq2020['PM levels'],rotation=40)\n",
    "ax2.set_title('2020')\n",
    "\n",
    "ax3=sns.barplot(y='Nom of days',x='PM levels',data=dfaq2021,hue='Nom of days',palette=\"rocket\",ax=ax3,dodge=False)\n",
    "for p in ax3.patches:\n",
    " ax3.annotate(p.get_height(),(p.get_x()+p.get_width()/2,p.get_height()), \n",
    " color=\"black\", ha=\"right\", va ='bottom',fontsize=10)\n",
    "ax3.set_xticklabels(dfaq2021['PM levels'],rotation=40)\n",
    "ax3.set_title('2020')\n",
    "\n"
   ]
  },
  {
   "cell_type": "markdown",
   "metadata": {},
   "source": [
    "## It is seen that PM10 values decreases over years \n",
    "> ### start with restrictions on major polluting activities, including basic activates  , could be confined to this category"
   ]
  },
  {
   "cell_type": "markdown",
   "metadata": {},
   "source": [
    "### SO2 the number of days in each year on which monitored values exceed the 24-hourly standards of 10 μg/m3is plotted"
   ]
  },
  {
   "cell_type": "code",
   "execution_count": 44,
   "metadata": {},
   "outputs": [],
   "source": [
    "b=aq2020[(aq2020['SO2']>=10)]['SO2'].count()\n",
    "a=aq2019[(aq2019['SO2']>=10)]['SO2'].count()\n",
    "c=aq2021[(aq2021['SO2']>=10)]['SO2'].count()"
   ]
  },
  {
   "cell_type": "code",
   "execution_count": 45,
   "metadata": {},
   "outputs": [],
   "source": [
    "daysofso2=pd.DataFrame({'number of days with SO2>10':[a,b,c]},index=[2019,2020,2021])"
   ]
  },
  {
   "cell_type": "code",
   "execution_count": 46,
   "metadata": {},
   "outputs": [
    {
     "data": {
      "text/html": [
       "<div>\n",
       "<style scoped>\n",
       "    .dataframe tbody tr th:only-of-type {\n",
       "        vertical-align: middle;\n",
       "    }\n",
       "\n",
       "    .dataframe tbody tr th {\n",
       "        vertical-align: top;\n",
       "    }\n",
       "\n",
       "    .dataframe thead th {\n",
       "        text-align: right;\n",
       "    }\n",
       "</style>\n",
       "<table border=\"1\" class=\"dataframe\">\n",
       "  <thead>\n",
       "    <tr style=\"text-align: right;\">\n",
       "      <th></th>\n",
       "      <th>number of days with SO2&gt;10</th>\n",
       "    </tr>\n",
       "  </thead>\n",
       "  <tbody>\n",
       "    <tr>\n",
       "      <th>2019</th>\n",
       "      <td>329</td>\n",
       "    </tr>\n",
       "    <tr>\n",
       "      <th>2020</th>\n",
       "      <td>287</td>\n",
       "    </tr>\n",
       "    <tr>\n",
       "      <th>2021</th>\n",
       "      <td>21</td>\n",
       "    </tr>\n",
       "  </tbody>\n",
       "</table>\n",
       "</div>"
      ],
      "text/plain": [
       "      number of days with SO2>10\n",
       "2019                         329\n",
       "2020                         287\n",
       "2021                          21"
      ]
     },
     "execution_count": 46,
     "metadata": {},
     "output_type": "execute_result"
    }
   ],
   "source": [
    "daysofso2"
   ]
  },
  {
   "cell_type": "code",
   "execution_count": 68,
   "metadata": {},
   "outputs": [
    {
     "data": {
      "text/plain": [
       "Text(0.5, 0.98, 'Number of days per year with critical levels of SO2 concentration')"
      ]
     },
     "execution_count": 68,
     "metadata": {},
     "output_type": "execute_result"
    },
    {
     "data": {
      "image/png": "[encoded data removed]",
      "text/plain": [
       "<Figure size 432x288 with 1 Axes>"
      ]
     },
     "metadata": {},
     "output_type": "display_data"
    }
   ],
   "source": [
    "ax=daysofso2.plot(kind='bar',alpha=0.9,color='r')\n",
    "for p in ax.patches:\n",
    " ax.annotate(p.get_height(), (p.get_x() + p.get_width() / 2, p.get_height()), ha = 'center', va = 'bottom')\n",
    "plt.suptitle('Number of days per year with critical levels of SO2 concentration')"
   ]
  },
  {
   "cell_type": "markdown",
   "metadata": {},
   "source": [
    "#### OZone the number of days in each year on which monitored values exceed the 24-hourly standards of 30 is plotted"
   ]
  },
  {
   "cell_type": "code",
   "execution_count": 60,
   "metadata": {},
   "outputs": [],
   "source": [
    "a=aq2019[(aq2019['Ozone']>=40)]['Ozone'].count()\n",
    "b=aq2020[(aq2020['Ozone']>=40)]['Ozone'].count()\n",
    "c=aq2021[(aq2021['Ozone']>=40)]['Ozone'].count()"
   ]
  },
  {
   "cell_type": "code",
   "execution_count": 61,
   "metadata": {},
   "outputs": [],
   "source": [
    "dfnomofozone=pd.DataFrame({'number of days with OZONE>40':[a,b,c]},index=[2019,2020,2021])"
   ]
  },
  {
   "cell_type": "code",
   "execution_count": 62,
   "metadata": {},
   "outputs": [
    {
     "data": {
      "text/html": [
       "<div>\n",
       "<style scoped>\n",
       "    .dataframe tbody tr th:only-of-type {\n",
       "        vertical-align: middle;\n",
       "    }\n",
       "\n",
       "    .dataframe tbody tr th {\n",
       "        vertical-align: top;\n",
       "    }\n",
       "\n",
       "    .dataframe thead th {\n",
       "        text-align: right;\n",
       "    }\n",
       "</style>\n",
       "<table border=\"1\" class=\"dataframe\">\n",
       "  <thead>\n",
       "    <tr style=\"text-align: right;\">\n",
       "      <th></th>\n",
       "      <th>number of days with OZONE&gt;40</th>\n",
       "    </tr>\n",
       "  </thead>\n",
       "  <tbody>\n",
       "    <tr>\n",
       "      <th>2019</th>\n",
       "      <td>216</td>\n",
       "    </tr>\n",
       "    <tr>\n",
       "      <th>2020</th>\n",
       "      <td>271</td>\n",
       "    </tr>\n",
       "    <tr>\n",
       "      <th>2021</th>\n",
       "      <td>5</td>\n",
       "    </tr>\n",
       "  </tbody>\n",
       "</table>\n",
       "</div>"
      ],
      "text/plain": [
       "      number of days with OZONE>40\n",
       "2019                           216\n",
       "2020                           271\n",
       "2021                             5"
      ]
     },
     "execution_count": 62,
     "metadata": {},
     "output_type": "execute_result"
    }
   ],
   "source": [
    "dfnomofozone"
   ]
  },
  {
   "cell_type": "code",
   "execution_count": 66,
   "metadata": {},
   "outputs": [
    {
     "data": {
      "text/plain": [
       "Text(0.5, 0.98, 'Number of days per year with critical levels of OZone concentration')"
      ]
     },
     "execution_count": 66,
     "metadata": {},
     "output_type": "execute_result"
    },
    {
     "data": {
      "image/png": "[encoded data removed]",
      "text/plain": [
       "<Figure size 432x288 with 1 Axes>"
      ]
     },
     "metadata": {},
     "output_type": "display_data"
    }
   ],
   "source": [
    "ax=dfnomofozone.plot(kind='bar',alpha=0.9,color='r')\n",
    "for p in ax.patches:\n",
    " ax.annotate(p.get_height(), (p.get_x() + p.get_width() / 2, p.get_height()), ha = 'center', va = 'bottom')\n",
    "plt.suptitle('Number of days per year with critical levels of OZone concentration')"
   ]
  },
  {
   "cell_type": "markdown",
   "metadata": {},
   "source": [
    "### Part 3 of air quality analysis: Identifying the months where PM2.5 daily values exceed \n",
    "### critical levels on the majority of the days"
   ]
  },
  {
   "cell_type": "code",
   "execution_count": null,
   "metadata": {},
   "outputs": [],
   "source": []
  },
  {
   "cell_type": "code",
   "execution_count": 48,
   "metadata": {},
   "outputs": [
    {
     "name": "stderr",
     "output_type": "stream",
     "text": [
      "<ipython-input-48-5cb1071fad55>:1: SettingWithCopyWarning: \n",
      "A value is trying to be set on a copy of a slice from a DataFrame.\n",
      "Try using .loc[row_indexer,col_indexer] = value instead\n",
      "\n",
      "See the caveats in the documentation: https://pandas.pydata.org/pandas-docs/stable/user_guide/indexing.html#returning-a-view-versus-a-copy\n",
      "  aq2019['month']=pd.DatetimeIndex(aq2019['from_date']).month\n",
      "<ipython-input-48-5cb1071fad55>:2: SettingWithCopyWarning: \n",
      "A value is trying to be set on a copy of a slice from a DataFrame.\n",
      "Try using .loc[row_indexer,col_indexer] = value instead\n",
      "\n",
      "See the caveats in the documentation: https://pandas.pydata.org/pandas-docs/stable/user_guide/indexing.html#returning-a-view-versus-a-copy\n",
      "  aq2020['month']=pd.DatetimeIndex(aq2020['from_date']).month\n",
      "<ipython-input-48-5cb1071fad55>:3: SettingWithCopyWarning: \n",
      "A value is trying to be set on a copy of a slice from a DataFrame.\n",
      "Try using .loc[row_indexer,col_indexer] = value instead\n",
      "\n",
      "See the caveats in the documentation: https://pandas.pydata.org/pandas-docs/stable/user_guide/indexing.html#returning-a-view-versus-a-copy\n",
      "  aq2021['month']=pd.DatetimeIndex(aq2021['from_date']).month\n"
     ]
    }
   ],
   "source": [
    "aq2019['month']=pd.DatetimeIndex(aq2019['from_date']).month\n",
    "aq2020['month']=pd.DatetimeIndex(aq2020['from_date']).month\n",
    "aq2021['month']=pd.DatetimeIndex(aq2021['from_date']).month\n"
   ]
  },
  {
   "cell_type": "code",
   "execution_count": 49,
   "metadata": {},
   "outputs": [
    {
     "name": "stderr",
     "output_type": "stream",
     "text": [
      "<ipython-input-49-5f1988542202>:1: SettingWithCopyWarning: \n",
      "A value is trying to be set on a copy of a slice from a DataFrame.\n",
      "Try using .loc[row_indexer,col_indexer] = value instead\n",
      "\n",
      "See the caveats in the documentation: https://pandas.pydata.org/pandas-docs/stable/user_guide/indexing.html#returning-a-view-versus-a-copy\n",
      "  aq2019['condition']=(aq2019['pm10']>=300)\n",
      "<ipython-input-49-5f1988542202>:2: SettingWithCopyWarning: \n",
      "A value is trying to be set on a copy of a slice from a DataFrame.\n",
      "Try using .loc[row_indexer,col_indexer] = value instead\n",
      "\n",
      "See the caveats in the documentation: https://pandas.pydata.org/pandas-docs/stable/user_guide/indexing.html#returning-a-view-versus-a-copy\n",
      "  aq2020['condition']=(aq2020['pm10']>=300)\n",
      "<ipython-input-49-5f1988542202>:3: SettingWithCopyWarning: \n",
      "A value is trying to be set on a copy of a slice from a DataFrame.\n",
      "Try using .loc[row_indexer,col_indexer] = value instead\n",
      "\n",
      "See the caveats in the documentation: https://pandas.pydata.org/pandas-docs/stable/user_guide/indexing.html#returning-a-view-versus-a-copy\n",
      "  aq2021['condition']=(aq2021['pm10']>=300)\n"
     ]
    }
   ],
   "source": [
    "aq2019['condition']=(aq2019['pm10']>=300)\n",
    "aq2020['condition']=(aq2020['pm10']>=300)\n",
    "aq2021['condition']=(aq2021['pm10']>=300)"
   ]
  },
  {
   "cell_type": "code",
   "execution_count": 50,
   "metadata": {},
   "outputs": [
    {
     "data": {
      "text/plain": [
       "509"
      ]
     },
     "execution_count": 50,
     "metadata": {},
     "output_type": "execute_result"
    }
   ],
   "source": [
    "aq2020['condition'].count()\n"
   ]
  },
  {
   "cell_type": "markdown",
   "metadata": {},
   "source": [
    "### clac all values True and false , replace flase with null to get real num of true values"
   ]
  },
  {
   "cell_type": "code",
   "execution_count": 51,
   "metadata": {},
   "outputs": [
    {
     "name": "stderr",
     "output_type": "stream",
     "text": [
      "C:\\Users\\EC\\anaconda3\\lib\\site-packages\\pandas\\core\\series.py:4563: SettingWithCopyWarning: \n",
      "A value is trying to be set on a copy of a slice from a DataFrame\n",
      "\n",
      "See the caveats in the documentation: https://pandas.pydata.org/pandas-docs/stable/user_guide/indexing.html#returning-a-view-versus-a-copy\n",
      "  return super().replace(\n"
     ]
    },
    {
     "data": {
      "text/plain": [
       "138"
      ]
     },
     "execution_count": 51,
     "metadata": {},
     "output_type": "execute_result"
    }
   ],
   "source": [
    "aq2020['condition'].replace({False:np.nan},inplace=True)\n",
    "aq2020['condition'].count()\n"
   ]
  },
  {
   "cell_type": "code",
   "execution_count": 52,
   "metadata": {},
   "outputs": [
    {
     "data": {
      "text/plain": [
       "191"
      ]
     },
     "execution_count": 52,
     "metadata": {},
     "output_type": "execute_result"
    }
   ],
   "source": [
    "aq2019['condition'].replace({False:np.nan},inplace=True)\n",
    "aq2019['condition'].count()\n"
   ]
  },
  {
   "cell_type": "code",
   "execution_count": 53,
   "metadata": {},
   "outputs": [
    {
     "data": {
      "text/plain": [
       "12"
      ]
     },
     "execution_count": 53,
     "metadata": {},
     "output_type": "execute_result"
    }
   ],
   "source": [
    "aq2021['condition'].replace({False:np.nan},inplace=True)\n",
    "aq2021['condition'].count()\n"
   ]
  },
  {
   "cell_type": "markdown",
   "metadata": {},
   "source": [
    "### we get all values bigger than 300 in condition raw\n",
    "#### let's get all condition by month "
   ]
  },
  {
   "cell_type": "code",
   "execution_count": 54,
   "metadata": {},
   "outputs": [],
   "source": [
    "aq2019group=aq2019.groupby('month')['condition'].count()"
   ]
  },
  {
   "cell_type": "code",
   "execution_count": 55,
   "metadata": {},
   "outputs": [],
   "source": [
    "aq2020group=aq2020.groupby('month')['condition'].count()\n",
    "aq2021group=aq2021.groupby('month')['condition'].count()"
   ]
  },
  {
   "cell_type": "code",
   "execution_count": 56,
   "metadata": {},
   "outputs": [
    {
     "data": {
      "text/plain": [
       "month\n",
       "1     19\n",
       "2     21\n",
       "3      3\n",
       "4      0\n",
       "5      0\n",
       "6      2\n",
       "7      0\n",
       "8      0\n",
       "9      0\n",
       "10    29\n",
       "11    32\n",
       "12    32\n",
       "Name: condition, dtype: int64"
      ]
     },
     "execution_count": 56,
     "metadata": {},
     "output_type": "execute_result"
    }
   ],
   "source": [
    "aq2020group"
   ]
  },
  {
   "cell_type": "markdown",
   "metadata": {},
   "source": [
    "#### let's combine all three groups one dataframe to compare betwen them"
   ]
  },
  {
   "cell_type": "code",
   "execution_count": 57,
   "metadata": {},
   "outputs": [],
   "source": [
    "collection=pd.concat([aq2019group,aq2020group,aq2021group],axis=1)"
   ]
  },
  {
   "cell_type": "code",
   "execution_count": 58,
   "metadata": {},
   "outputs": [
    {
     "data": {
      "text/html": [
       "<div>\n",
       "<style scoped>\n",
       "    .dataframe tbody tr th:only-of-type {\n",
       "        vertical-align: middle;\n",
       "    }\n",
       "\n",
       "    .dataframe tbody tr th {\n",
       "        vertical-align: top;\n",
       "    }\n",
       "\n",
       "    .dataframe thead th {\n",
       "        text-align: right;\n",
       "    }\n",
       "</style>\n",
       "<table border=\"1\" class=\"dataframe\">\n",
       "  <thead>\n",
       "    <tr style=\"text-align: right;\">\n",
       "      <th></th>\n",
       "      <th>2019</th>\n",
       "      <th>2020</th>\n",
       "      <th>2021</th>\n",
       "    </tr>\n",
       "    <tr>\n",
       "      <th>month</th>\n",
       "      <th></th>\n",
       "      <th></th>\n",
       "      <th></th>\n",
       "    </tr>\n",
       "  </thead>\n",
       "  <tbody>\n",
       "    <tr>\n",
       "      <th>1</th>\n",
       "      <td>32</td>\n",
       "      <td>19</td>\n",
       "      <td>12.0</td>\n",
       "    </tr>\n",
       "    <tr>\n",
       "      <th>2</th>\n",
       "      <td>8</td>\n",
       "      <td>21</td>\n",
       "      <td>0.0</td>\n",
       "    </tr>\n",
       "    <tr>\n",
       "      <th>3</th>\n",
       "      <td>8</td>\n",
       "      <td>3</td>\n",
       "      <td>0.0</td>\n",
       "    </tr>\n",
       "    <tr>\n",
       "      <th>4</th>\n",
       "      <td>18</td>\n",
       "      <td>0</td>\n",
       "      <td>0.0</td>\n",
       "    </tr>\n",
       "    <tr>\n",
       "      <th>5</th>\n",
       "      <td>24</td>\n",
       "      <td>0</td>\n",
       "      <td>0.0</td>\n",
       "    </tr>\n",
       "    <tr>\n",
       "      <th>6</th>\n",
       "      <td>11</td>\n",
       "      <td>2</td>\n",
       "      <td>0.0</td>\n",
       "    </tr>\n",
       "    <tr>\n",
       "      <th>7</th>\n",
       "      <td>9</td>\n",
       "      <td>0</td>\n",
       "      <td>0.0</td>\n",
       "    </tr>\n",
       "    <tr>\n",
       "      <th>8</th>\n",
       "      <td>0</td>\n",
       "      <td>0</td>\n",
       "      <td>0.0</td>\n",
       "    </tr>\n",
       "    <tr>\n",
       "      <th>9</th>\n",
       "      <td>0</td>\n",
       "      <td>0</td>\n",
       "      <td>0.0</td>\n",
       "    </tr>\n",
       "    <tr>\n",
       "      <th>10</th>\n",
       "      <td>22</td>\n",
       "      <td>29</td>\n",
       "      <td>0.0</td>\n",
       "    </tr>\n",
       "    <tr>\n",
       "      <th>11</th>\n",
       "      <td>27</td>\n",
       "      <td>32</td>\n",
       "      <td>0.0</td>\n",
       "    </tr>\n",
       "    <tr>\n",
       "      <th>12</th>\n",
       "      <td>32</td>\n",
       "      <td>32</td>\n",
       "      <td>0.0</td>\n",
       "    </tr>\n",
       "  </tbody>\n",
       "</table>\n",
       "</div>"
      ],
      "text/plain": [
       "       2019  2020  2021\n",
       "month                  \n",
       "1        32    19  12.0\n",
       "2         8    21   0.0\n",
       "3         8     3   0.0\n",
       "4        18     0   0.0\n",
       "5        24     0   0.0\n",
       "6        11     2   0.0\n",
       "7         9     0   0.0\n",
       "8         0     0   0.0\n",
       "9         0     0   0.0\n",
       "10       22    29   0.0\n",
       "11       27    32   0.0\n",
       "12       32    32   0.0"
      ]
     },
     "execution_count": 58,
     "metadata": {},
     "output_type": "execute_result"
    }
   ],
   "source": [
    "collection.columns=(['2019','2020','2021'])\n",
    "collection.replace({np.nan:0})"
   ]
  },
  {
   "cell_type": "code",
   "execution_count": 59,
   "metadata": {},
   "outputs": [
    {
     "data": {
      "text/plain": [
       "<AxesSubplot:xlabel='month'>"
      ]
     },
     "execution_count": 59,
     "metadata": {},
     "output_type": "execute_result"
    },
    {
     "data": {
      "image/png": "[encoded data removed]",
      "text/plain": [
       "<Figure size 720x360 with 1 Axes>"
      ]
     },
     "metadata": {},
     "output_type": "display_data"
    }
   ],
   "source": [
    "collection.plot(kind='line',figsize=(10,5),marker='o')\n"
   ]
  },
  {
   "cell_type": "markdown",
   "metadata": {},
   "source": [
    "### We can observe from this table that month 1 (January), month 11 (November), and \n",
    "### month 12 (December), are the most critical months for all three years"
   ]
  },
  {
   "cell_type": "code",
   "execution_count": 110,
   "metadata": {},
   "outputs": [
    {
     "data": {
      "text/plain": [
       "Text(0.5, 1.0, 'Number of days with critical levels of PM10 in each month of years 2019-2021')"
      ]
     },
     "execution_count": 110,
     "metadata": {},
     "output_type": "execute_result"
    },
    {
     "data": {
      "image/png": "[encoded data removed]",
      "text/plain": [
       "<Figure size 1440x504 with 1 Axes>"
      ]
     },
     "metadata": {},
     "output_type": "display_data"
    }
   ],
   "source": [
    "ax=collection.plot(kind='bar',figsize=(20,7),width=0.7,align='center',colormap='Paired')\n",
    "bars = ax.patches\n",
    "ax.set_xticklabels(['Jan','Feb','Mar','Apr','May','June','July','Aug','Sept','Oct','Nov','Dec'],rotation=30)\n",
    "ax.set_xlabel('Month',fontsize=12)\n",
    "ax.set_ylabel('Number of days with critical levels of PM10',fontsize=12)\n",
    "\n",
    "\n",
    "patterns =('O','x','+')\n",
    "ax.legend(loc='upper right', borderpad=1.5, labelspacing=1.5)\n",
    "hatches = [p for p in patterns for i in range(len(collection))]\n",
    "for bar, hatch in zip(bars, hatches):\n",
    " bar.set_hatch(hatch)\n",
    "\n",
    "for i in ax.patches:\n",
    " ax.text(i.get_x()-.003, i.get_height()+.3,round(i.get_height(),2), fontsize=10,color='dimgrey')\n",
    "\n",
    "ax.set_title(\"Number of days with critical levels of PM10 in each month of years 2019-2021\")"
   ]
  },
  {
   "cell_type": "code",
   "execution_count": null,
   "metadata": {},
   "outputs": [],
   "source": []
  }
 ],
 "metadata": {
  "kernelspec": {
   "display_name": "Python 3",
   "language": "python",
   "name": "python3"
  },
  "language_info": {
   "codemirror_mode": {
    "name": "ipython",
    "version": 3
   },
   "file_extension": ".py",
   "mimetype": "text/x-python",
   "name": "python",
   "nbconvert_exporter": "python",
   "pygments_lexer": "ipython3",
   "version": "3.8.5"
  }
 },
 "nbformat": 4,
 "nbformat_minor": 5
}
